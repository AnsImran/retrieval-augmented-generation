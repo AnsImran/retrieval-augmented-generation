{
 "cells": [
  {
   "cell_type": "markdown",
   "id": "d1c082bf-8657-4b9a-9d84-f7b2254c21b2",
   "metadata": {},
   "source": [
    "# Note: **Cells in this notebook are unexecuted**\n",
    "\n",
    "## The issue arises from a problem with the deeplearning.ai website (the platform offering this course). Specifically, the corresponding notebook for this lesson cannot be downloaded and saved. Consequently, I manually transcribed the code into this notebook. However, I do not have an OpenAI API key of my own, so, I cannot run the cells."
   ]
  },
  {
   "cell_type": "code",
   "execution_count": null,
   "id": "283c0f52-048c-4c15-822b-18edb1d80e19",
   "metadata": {},
   "outputs": [],
   "source": []
  },
  {
   "cell_type": "code",
   "execution_count": null,
   "id": "11284b71-48fe-4372-98cf-0df3f4335873",
   "metadata": {},
   "outputs": [],
   "source": []
  },
  {
   "cell_type": "code",
   "execution_count": null,
   "id": "9a3c3165-b41d-48ea-b91d-24035b935e9f",
   "metadata": {},
   "outputs": [],
   "source": []
  },
  {
   "cell_type": "code",
   "execution_count": null,
   "id": "fabfda62-b91d-4e96-86c0-c546b9b36c75",
   "metadata": {},
   "outputs": [],
   "source": []
  },
  {
   "cell_type": "code",
   "execution_count": null,
   "id": "777ab99f-ec12-42bf-97f2-d9d8295d38b0",
   "metadata": {},
   "outputs": [],
   "source": []
  },
  {
   "cell_type": "code",
   "execution_count": null,
   "id": "31a59c10-7e69-46ed-bd3f-6a4384970f45",
   "metadata": {},
   "outputs": [],
   "source": []
  },
  {
   "cell_type": "code",
   "execution_count": null,
   "id": "920c7c81-08cf-47d7-b7c8-72ba54194714",
   "metadata": {},
   "outputs": [],
   "source": []
  },
  {
   "cell_type": "code",
   "execution_count": null,
   "id": "1505cf4f-73fb-4e06-bb65-b4a750b336ea",
   "metadata": {},
   "outputs": [],
   "source": []
  },
  {
   "cell_type": "code",
   "execution_count": null,
   "id": "bf3c26d1-4062-485a-82f6-778ffd413a8c",
   "metadata": {},
   "outputs": [],
   "source": []
  },
  {
   "cell_type": "code",
   "execution_count": null,
   "id": "12ca697a-2f98-411f-bd82-a03d96d78601",
   "metadata": {},
   "outputs": [],
   "source": []
  },
  {
   "cell_type": "markdown",
   "id": "712f3eff-37ce-4818-8787-724fbde9211e",
   "metadata": {},
   "source": [
    "# Retrieval\n",
    "\n",
    "Retrieval is the centerpiece of our retrieval augmented generation (RAG) flow. \n",
    "\n",
    "Let's get our vectorDB from before.\n",
    "\n",
    "## Vectorstore retrieval"
   ]
  },
  {
   "cell_type": "code",
   "execution_count": null,
   "id": "38236a51-c417-4cfa-80b7-536e74596000",
   "metadata": {},
   "outputs": [],
   "source": [
    "import os\n",
    "import openai\n",
    "import sys\n",
    "sys.path.append('../..')\n",
    "\n",
    "from dotenv import load_dotenv, find_dotenv\n",
    "_ = load_dotenv(find_dotenv()) # read local .env file\n",
    "\n",
    "openai.api_key  = os.environ['OPENAI_API_KEY']\n"
   ]
  },
  {
   "cell_type": "code",
   "execution_count": null,
   "id": "7bc104a2-40c8-49e8-8453-2a25488c7d93",
   "metadata": {},
   "outputs": [],
   "source": [
    "#!pip install lark"
   ]
  },
  {
   "cell_type": "markdown",
   "id": "4697df20-a264-405e-ac3c-010ea5905777",
   "metadata": {},
   "source": [
    "### Similarity Search\n"
   ]
  },
  {
   "cell_type": "code",
   "execution_count": null,
   "id": "7e8f6646-9faf-417b-888d-0a3d450583bb",
   "metadata": {},
   "outputs": [],
   "source": [
    "from langchain.vectorstores import Chroma\n",
    "from langchain.embeddings.openai import OpenAIEmbeddings\n",
    "persist_directory = 'docs/chroma/'\n"
   ]
  },
  {
   "cell_type": "code",
   "execution_count": null,
   "id": "633d2a9f-767d-4a57-9e62-54607ecb454a",
   "metadata": {},
   "outputs": [],
   "source": [
    "embedding = OpenAIEmbeddings()\n",
    "vectordb = Chroma(\n",
    "    persist_directory=persist_directory,\n",
    "    embedding_function=embedding\n",
    ")\n"
   ]
  },
  {
   "cell_type": "code",
   "execution_count": null,
   "id": "ecf26227-7c9b-4c97-ac4b-e5d635b0e8e6",
   "metadata": {},
   "outputs": [],
   "source": [
    "print(vectordb._collection.count())\n"
   ]
  },
  {
   "cell_type": "code",
   "execution_count": null,
   "id": "8b2b999a-4c7b-4ab6-9807-f64dded1504b",
   "metadata": {},
   "outputs": [],
   "source": [
    "texts = [\n",
    "    \"\"\"The Amanita phalloides has a large and imposing epigeous (aboveground) fruiting body (basidiocarp).\"\"\",\n",
    "    \"\"\"A mushroom with a large fruiting body is the Amanita phalloides. Some varieties are all-white.\"\"\",\n",
    "    \"\"\"A. phalloides, a.k.a Death Cap, is one of the most poisonous of all known mushrooms.\"\"\",\n",
    "]\n"
   ]
  },
  {
   "cell_type": "code",
   "execution_count": null,
   "id": "3b5894a4-455d-46fb-b91c-d5af160d661d",
   "metadata": {},
   "outputs": [],
   "source": [
    "smalldb = Chroma.from_texts(texts, embedding=embedding)\n"
   ]
  },
  {
   "cell_type": "code",
   "execution_count": null,
   "id": "35428eca-8283-45df-a11f-adce16fd86b8",
   "metadata": {},
   "outputs": [],
   "source": [
    "question = \"Tell me about all-white mushrooms with large fruiting bodies\"\n"
   ]
  },
  {
   "cell_type": "code",
   "execution_count": null,
   "id": "7b8a569b-8091-44ba-b523-c0120add69a6",
   "metadata": {},
   "outputs": [],
   "source": [
    "smalldb.similarity_search(question, k=2)\n"
   ]
  },
  {
   "cell_type": "code",
   "execution_count": null,
   "id": "8c7f65a7-693b-4bdc-8daa-8d2316849acf",
   "metadata": {},
   "outputs": [],
   "source": [
    "smalldb.max_marginal_relevance_search(question,k=2, fetch_k=3)"
   ]
  },
  {
   "cell_type": "markdown",
   "id": "57cf451f-8b7c-4587-8475-30dcd437e69b",
   "metadata": {},
   "source": [
    "### Addressing Diversity: Maximum marginal relevance\n",
    "\n",
    "Last class we introduced one problem: how to enforce diversity in the search results.\n",
    " \n",
    "`Maximum marginal relevance` strives to achieve both relevance to the query *and diversity* among the results.\n"
   ]
  },
  {
   "cell_type": "code",
   "execution_count": null,
   "id": "308ff768-dc70-40ac-aa72-fb74aed3bf75",
   "metadata": {},
   "outputs": [],
   "source": [
    "question = \"what did they say about matlab?\"\n",
    "docs_ss = vectordb.similarity_search(question,k=3)\n"
   ]
  },
  {
   "cell_type": "code",
   "execution_count": null,
   "id": "6d9057f7-1875-4f80-82e0-fe0c544521bd",
   "metadata": {},
   "outputs": [],
   "source": [
    "docs_ss[0].page_content[:100]\n"
   ]
  },
  {
   "cell_type": "code",
   "execution_count": null,
   "id": "bd61b74e-3a96-4d31-b337-2e58dee9dad8",
   "metadata": {},
   "outputs": [],
   "source": [
    "docs_ss[1].page_content[:100]\n"
   ]
  },
  {
   "cell_type": "markdown",
   "id": "03cb5802-464e-4f7e-a949-d010b9fe4af0",
   "metadata": {},
   "source": [
    "Note the difference in results with `MMR`.\n"
   ]
  },
  {
   "cell_type": "code",
   "execution_count": null,
   "id": "523996d0-3a71-4c5d-acba-6a862843da73",
   "metadata": {},
   "outputs": [],
   "source": [
    "docs_mmr = vectordb.max_marginal_relevance_search(question,k=3)\n"
   ]
  },
  {
   "cell_type": "code",
   "execution_count": null,
   "id": "931e4d7e-8981-41b5-9c32-9fd67796caea",
   "metadata": {},
   "outputs": [],
   "source": [
    "docs_mmr[0].page_content[:100]\n"
   ]
  },
  {
   "cell_type": "code",
   "execution_count": null,
   "id": "9e8dde26-eef3-4a02-ae7d-bec4db48cd05",
   "metadata": {},
   "outputs": [],
   "source": [
    "docs_mmr[1].page_content[:100]\n"
   ]
  },
  {
   "cell_type": "markdown",
   "id": "2fb2d589-c6d0-4489-ac4a-20e1a458feb1",
   "metadata": {},
   "source": [
    "### Addressing Specificity: working with metadata\n",
    "\n",
    "In last lecture, we showed that a question about the third lecture can include results from other lectures as well.\n",
    "\n",
    "To address this, many vectorstores support operations on `metadata`.\n",
    "\n",
    "`metadata` provides context for each embedded chunk.\n"
   ]
  },
  {
   "cell_type": "code",
   "execution_count": 1,
   "id": "48bb3c11-2c7e-4991-9763-7d58e4f9d78f",
   "metadata": {},
   "outputs": [],
   "source": [
    "question = \"what did they say about regression in the third lecture?\"\n"
   ]
  },
  {
   "cell_type": "code",
   "execution_count": null,
   "id": "62a7f0e0-96d9-471c-9bc5-8756a6b00e9e",
   "metadata": {},
   "outputs": [],
   "source": [
    "docs = vectordb.similarity_search(\n",
    "    question,\n",
    "    k=3,\n",
    "    filter={\"source\":\"docs/cs229_lectures/MachineLearning-Lecture03.pdf\"}\n",
    ")\n"
   ]
  },
  {
   "cell_type": "code",
   "execution_count": null,
   "id": "f920e767-2e90-4900-9ca7-7257469f1c1e",
   "metadata": {},
   "outputs": [],
   "source": [
    "for d in docs:\n",
    "    print(d.metadata)\n"
   ]
  },
  {
   "cell_type": "markdown",
   "id": "f4e28aae-f63b-4c00-8647-ebf52a31c3a5",
   "metadata": {},
   "source": [
    "### Addressing Specificity: working with metadata using self-query retriever\n",
    "\n",
    "But we have an interesting challenge: we often want to infer the metadata from the query itself.\n",
    "\n",
    "To address this, we can use `SelfQueryRetriever`, which uses an LLM to extract:\n",
    " \n",
    "1. The `query` string to use for vector search\n",
    "2. A metadata filter to pass in as well\n",
    "\n",
    "Most vector databases support metadata filters, so this doesn't require any new databases or indexes.\n",
    "\n"
   ]
  },
  {
   "cell_type": "code",
   "execution_count": null,
   "id": "e9628855-8a8a-4ef8-b682-43c0b8369cdd",
   "metadata": {},
   "outputs": [],
   "source": [
    "from langchain.llms import OpenAI\n",
    "from langchain.retrievers.self_query.base import SelfQueryRetriever\n",
    "from langchain.chains.query_constructor.base import AttributeInfo\n",
    "\n"
   ]
  },
  {
   "cell_type": "code",
   "execution_count": null,
   "id": "b49b3dff-b0fa-4c49-9e4b-886c3f830646",
   "metadata": {},
   "outputs": [],
   "source": [
    "metadata_field_info = [\n",
    "    AttributeInfo(\n",
    "        name=\"source\",\n",
    "        description=\"The lecture the chunk is from, should be one of `docs/cs229_lectures/MachineLearning-Lecture01.pdf`, `docs/cs229_lectures/MachineLearning-Lecture02.pdf`, or `docs/cs229_lectures/MachineLearning-Lecture03.pdf`\",\n",
    "        type=\"string\",\n",
    "    ),\n",
    "    AttributeInfo(\n",
    "        name=\"page\",\n",
    "        description=\"The page from the lecture\",\n",
    "        type=\"integer\",\n",
    "    ),\n",
    "]\n"
   ]
  },
  {
   "cell_type": "markdown",
   "id": "7b4a927c-971a-4d58-b32e-8384de29fefc",
   "metadata": {},
   "source": [
    "**Note:** The default model for `OpenAI` (\"from langchain.llms import OpenAI\") is `text-davinci-003`. Due to the deprication of OpenAI's model `text-davinci-003` on 4 January 2024, you'll be using OpenAI's recommended replacement model `gpt-3.5-turbo-instruct` instead.\n",
    "\n"
   ]
  },
  {
   "cell_type": "code",
   "execution_count": null,
   "id": "c615858f-899e-4f73-941c-3d14e0a54a9b",
   "metadata": {},
   "outputs": [],
   "source": [
    "document_content_description = \"Lecture notes\"\n",
    "llm = OpenAI(model='gpt-3.5-turbo-instruct', temperature=0)\n",
    "retriever = SelfQueryRetriever.from_llm(\n",
    "    llm,\n",
    "    vectordb,\n",
    "    document_content_description,\n",
    "    metadata_field_info,\n",
    "    verbose=True\n",
    ")\n"
   ]
  },
  {
   "cell_type": "code",
   "execution_count": null,
   "id": "225a3052-d310-4a1d-bf94-ff0861b14bec",
   "metadata": {},
   "outputs": [],
   "source": [
    "question = \"what did they say about regression in the third lecture?\"\n"
   ]
  },
  {
   "cell_type": "markdown",
   "id": "f6170616-e921-4d17-9d7d-5ff5634499fc",
   "metadata": {},
   "source": [
    "**You will receive a warning** about predict_and_parse being deprecated the first time you executing the next line. This can be safely ignored.\n"
   ]
  },
  {
   "cell_type": "code",
   "execution_count": null,
   "id": "63f2139b-f0fb-4099-8179-0db4cc7c169e",
   "metadata": {},
   "outputs": [],
   "source": [
    "docs = retriever.get_relevant_documents(question)\n"
   ]
  },
  {
   "cell_type": "code",
   "execution_count": null,
   "id": "d6b1a56b-ac73-4406-a562-1f70967e4de4",
   "metadata": {},
   "outputs": [],
   "source": [
    "for d in docs:\n",
    "    print(d.metadata)\n"
   ]
  },
  {
   "cell_type": "markdown",
   "id": "fe392db9-b520-4048-8bb0-e7f2d7ac963d",
   "metadata": {},
   "source": [
    "### Additional tricks: compression\n",
    "\n",
    "Another approach for improving the quality of retrieved docs is compression.\n",
    "\n",
    "Information most relevant to a query may be buried in a document with a lot of irrelevant text. \n",
    "\n",
    "Passing that full document through your application can lead to more expensive LLM calls and poorer responses.\n",
    "\n",
    "Contextual compression is meant to fix this. \n"
   ]
  },
  {
   "cell_type": "code",
   "execution_count": null,
   "id": "17a3c459-03a9-4bd3-a138-6aef72cd83c7",
   "metadata": {},
   "outputs": [],
   "source": [
    "from langchain.retrievers import ContextualCompressionRetriever\n",
    "from langchain.retrievers.document_compressors import LLMChainExtractor\n"
   ]
  },
  {
   "cell_type": "code",
   "execution_count": null,
   "id": "a14b7d05-bab4-4bfa-94d6-b737881ba3b6",
   "metadata": {},
   "outputs": [],
   "source": [
    "def pretty_print_docs(docs):\n",
    "    print(f\"\\n{'-' * 100}\\n\".join([f\"Document {i+1}:\\n\\n\" + d.page_content for i, d in enumerate(docs)]))\n"
   ]
  },
  {
   "cell_type": "code",
   "execution_count": null,
   "id": "29d9ffb4-f8f2-4425-84e4-82dde6ce567c",
   "metadata": {},
   "outputs": [],
   "source": [
    "# Wrap our vectorstore\n",
    "llm = OpenAI(temperature=0)\n",
    "compressor = LLMChainExtractor.from_llm(llm)\n"
   ]
  },
  {
   "cell_type": "code",
   "execution_count": null,
   "id": "2167644c-b95f-4753-aaf2-832941c2d0b4",
   "metadata": {},
   "outputs": [],
   "source": [
    "compression_retriever = ContextualCompressionRetriever(\n",
    "    base_compressor=compressor,\n",
    "    base_retriever=vectordb.as_retriever()\n",
    ")\n"
   ]
  },
  {
   "cell_type": "code",
   "execution_count": null,
   "id": "c63f16c2-dddc-4e6a-8bff-a1774b72cba7",
   "metadata": {},
   "outputs": [],
   "source": [
    "question = \"what did they say about matlab?\"\n",
    "compressed_docs = compression_retriever.get_relevant_documents(question)\n",
    "pretty_print_docs(compressed_docs)\n"
   ]
  },
  {
   "cell_type": "markdown",
   "id": "5dde7676-3406-4cfe-82fa-ac5c9ed1ca9d",
   "metadata": {},
   "source": [
    "## Combining various techniques\n"
   ]
  },
  {
   "cell_type": "code",
   "execution_count": null,
   "id": "357fd167-5faa-497c-bf75-1ee9d5e76de6",
   "metadata": {},
   "outputs": [],
   "source": [
    "compression_retriever = ContextualCompressionRetriever(\n",
    "    base_compressor=compressor,\n",
    "    base_retriever=vectordb.as_retriever(search_type = \"mmr\")\n",
    ")\n"
   ]
  },
  {
   "cell_type": "code",
   "execution_count": null,
   "id": "923a3fce-87b6-4168-938c-cd34459ed55d",
   "metadata": {},
   "outputs": [],
   "source": [
    "question = \"what did they say about matlab?\"\n",
    "compressed_docs = compression_retriever.get_relevant_documents(question)\n",
    "pretty_print_docs(compressed_docs)\n"
   ]
  },
  {
   "cell_type": "markdown",
   "id": "c715e38c-e682-45f0-9e61-433f4653c214",
   "metadata": {},
   "source": [
    "## Other types of retrieval\n",
    "\n",
    "It's worth noting that vectordb as not the only kind of tool to retrieve documents. \n",
    "\n",
    "The `LangChain` retriever abstraction includes other ways to retrieve documents, such as TF-IDF or SVM.\n",
    "\n"
   ]
  },
  {
   "cell_type": "code",
   "execution_count": null,
   "id": "3d62fa94-00b5-4261-a7a0-d4a53fc266a8",
   "metadata": {},
   "outputs": [],
   "source": [
    "from langchain.retrievers import SVMRetriever\n",
    "from langchain.retrievers import TFIDFRetriever\n",
    "from langchain.document_loaders import PyPDFLoader\n",
    "from langchain.text_splitter import RecursiveCharacterTextSplitter\n",
    "\n"
   ]
  },
  {
   "cell_type": "code",
   "execution_count": null,
   "id": "f8a819f9-905a-4f26-ba0a-bfc091152e95",
   "metadata": {},
   "outputs": [],
   "source": [
    "# Load PDF\n",
    "loader = PyPDFLoader(\"docs/cs229_lectures/MachineLearning-Lecture01.pdf\")\n",
    "pages = loader.load()\n",
    "all_page_text=[p.page_content for p in pages]\n",
    "joined_page_text=\" \".join(all_page_text)\n",
    "\n",
    "# Split\n",
    "text_splitter = RecursiveCharacterTextSplitter(chunk_size = 1500,chunk_overlap = 150)\n",
    "splits = text_splitter.split_text(joined_page_text)\n",
    "\n",
    "\n"
   ]
  },
  {
   "cell_type": "code",
   "execution_count": null,
   "id": "e1218341-5975-4966-9b65-1543d367ca42",
   "metadata": {},
   "outputs": [],
   "source": [
    "# Retrieve\n",
    "svm_retriever = SVMRetriever.from_texts(splits,embedding)\n",
    "tfidf_retriever = TFIDFRetriever.from_texts(splits)\n",
    "\n"
   ]
  },
  {
   "cell_type": "code",
   "execution_count": null,
   "id": "b3fb77ee-2a84-4aaa-b861-51438685d178",
   "metadata": {},
   "outputs": [],
   "source": [
    "question = \"What are major topics for this class?\"\n",
    "docs_svm=svm_retriever.get_relevant_documents(question)\n",
    "docs_svm[0]\n"
   ]
  },
  {
   "cell_type": "code",
   "execution_count": null,
   "id": "e0e82e57-7748-4c62-a415-16084f650c1c",
   "metadata": {},
   "outputs": [],
   "source": [
    "question = \"what did they say about matlab?\"\n",
    "docs_tfidf=tfidf_retriever.get_relevant_documents(question)\n",
    "docs_tfidf[0]\n"
   ]
  },
  {
   "cell_type": "code",
   "execution_count": null,
   "id": "85c921ec-468b-4f59-a68d-8c2a73759dea",
   "metadata": {},
   "outputs": [],
   "source": []
  }
 ],
 "metadata": {
  "kernelspec": {
   "display_name": "Python 3 (ipykernel)",
   "language": "python",
   "name": "python3"
  },
  "language_info": {
   "codemirror_mode": {
    "name": "ipython",
    "version": 3
   },
   "file_extension": ".py",
   "mimetype": "text/x-python",
   "name": "python",
   "nbconvert_exporter": "python",
   "pygments_lexer": "ipython3",
   "version": "3.10.0"
  }
 },
 "nbformat": 4,
 "nbformat_minor": 5
}
